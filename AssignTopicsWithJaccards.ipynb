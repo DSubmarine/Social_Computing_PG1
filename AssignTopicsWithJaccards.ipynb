{
 "cells": [
  {
   "cell_type": "code",
   "execution_count": 4,
   "metadata": {},
   "outputs": [],
   "source": [
    "import pandas as pd\n"
   ]
  },
  {
   "cell_type": "code",
   "execution_count": 6,
   "metadata": {},
   "outputs": [],
   "source": [
    "to_process_removal = pd.read_csv('processed_body.csv')"
   ]
  },
  {
   "cell_type": "code",
   "execution_count": 7,
   "metadata": {},
   "outputs": [],
   "source": [
    "pd.set_option('display.max_colwidth',-1)"
   ]
  },
  {
   "cell_type": "code",
   "execution_count": 8,
   "metadata": {},
   "outputs": [],
   "source": [
    "listofcomments = to_process_removal['target_body'].tolist()"
   ]
  },
  {
   "cell_type": "code",
   "execution_count": 9,
   "metadata": {},
   "outputs": [],
   "source": [
    "listoftopics = pd.read_csv('listof500topics.csv')"
   ]
  },
  {
   "cell_type": "code",
   "execution_count": 10,
   "metadata": {},
   "outputs": [],
   "source": [
    "listoftopics.columns = ['index','topics']"
   ]
  },
  {
   "cell_type": "code",
   "execution_count": 11,
   "metadata": {},
   "outputs": [],
   "source": [
    "listoftopics = listoftopics['topics'].tolist()"
   ]
  },
  {
   "cell_type": "code",
   "execution_count": 12,
   "metadata": {},
   "outputs": [],
   "source": [
    "def jaccardssimilarity(topic,comment):\n",
    "    topic = topic.split(' ')\n",
    "    comment = comment.split(' ')\n",
    "    intersection= 0\n",
    "    union = 0\n",
    "    for item in topic:\n",
    "        if('_' in item):\n",
    "            bigram = item.split('_')\n",
    "            if(bigram[0] in comment and bigram[1] in comment):\n",
    "                intersection = intersection + 1\n",
    "                union = union - 1\n",
    "    intersection = intersection + len(list(set(topic).intersection(comment)))\n",
    "    union = len(list(set(topic).union(comment)))\n",
    "    return (intersection/union)"
   ]
  },
  {
   "cell_type": "code",
   "execution_count": 13,
   "metadata": {},
   "outputs": [],
   "source": [
    "similaritylist = []\n",
    "assignedtopiclist = []\n",
    "for i in range(0,300):\n",
    "    maxsimilarity = 0\n",
    "    assignedtopic = -1\n",
    "    for j in range(0,len(listoftopics)):\n",
    "        similarity = jaccardssimilarity(listoftopics[j],listofcomments[i])\n",
    "        if(similarity > maxsimilarity):\n",
    "            maxsimilarity = similarity\n",
    "            assignedtopic = j\n",
    "    assignedtopiclist.append(assignedtopic)\n",
    "    similaritylist.append(maxsimilarity)"
   ]
  },
  {
   "cell_type": "code",
   "execution_count": 16,
   "metadata": {},
   "outputs": [],
   "source": [
    "similaritydf = pd.DataFrame(similaritylist)\n",
    "similaritydf.columns = ['similarity']\n",
    "assignedtopicdf = pd.DataFrame(assignedtopiclist)\n",
    "assignedtopicdf.columns = ['assignedtopics']\n",
    "to_process_removal['similarity_measure'] = similaritydf['similarity']\n",
    "to_process_removal['assigned_topic'] = assignedtopicdf['assignedtopics']\n"
   ]
  },
  {
   "cell_type": "code",
   "execution_count": 17,
   "metadata": {},
   "outputs": [],
   "source": [
    "to_process_removal.to_csv('output.csv')"
   ]
  },
  {
   "cell_type": "code",
   "execution_count": null,
   "metadata": {},
   "outputs": [],
   "source": []
  }
 ],
 "metadata": {
  "kernelspec": {
   "display_name": "Python 3",
   "language": "python",
   "name": "python3"
  },
  "language_info": {
   "codemirror_mode": {
    "name": "ipython",
    "version": 3
   },
   "file_extension": ".py",
   "mimetype": "text/x-python",
   "name": "python",
   "nbconvert_exporter": "python",
   "pygments_lexer": "ipython3",
   "version": "3.7.0"
  }
 },
 "nbformat": 4,
 "nbformat_minor": 2
}
